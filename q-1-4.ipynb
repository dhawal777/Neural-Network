{
 "cells": [
  {
   "cell_type": "code",
   "execution_count": 1,
   "metadata": {
    "colab": {},
    "colab_type": "code",
    "id": "k_mGLUffqwFv"
   },
   "outputs": [],
   "source": [
    "import pandas as pd\n",
    "import pandas as pd\n",
    "import requests\n",
    "import io\n",
    "df=pd.read_csv('apparel-trainval.csv')\n"
   ]
  },
  {
   "cell_type": "code",
   "execution_count": 2,
   "metadata": {},
   "outputs": [],
   "source": [
    "epoch_error = []"
   ]
  },
  {
   "cell_type": "code",
   "execution_count": 3,
   "metadata": {
    "colab": {},
    "colab_type": "code",
    "id": "CUwbAlq0qwFz"
   },
   "outputs": [],
   "source": [
    "from numpy import random,exp,array, dot\n",
    "import pandas as pd\n",
    "from sklearn.model_selection import train_test_split\n",
    "from sklearn.metrics import accuracy_score\n",
    "import numpy as np\n",
    "class NeuralNetwork():\n",
    "    def ini(self, gateInput, gateOutput):\n",
    "        self.gateInput = gateInput\n",
    "        self.gateOutput = gateOutput\n",
    "        self.input_shape = (1,784)\n",
    "        print(self.input_shape)\n",
    "        self.output_shape = (1,10)\n",
    "        print((self.output_shape))\n",
    "        self.layer_nodes = 130   \n",
    "        self.hidden_layers = 2\n",
    "        self.a = {}\n",
    "\n",
    "    def error(self,y1,y_hat):\n",
    "        return sum(0.5*np.sum((y1-y_hat)*(y1-y_hat),axis = 1))\n",
    "\n",
    "    def initialization(self,):\n",
    "        self.weights = {}       \n",
    "        self.weights[0] = 2 * np.random.random((self.input_shape[1], self.layer_nodes)) - 1\n",
    "        for i in range(1,self.hidden_layers):\n",
    "              self.weights[i] = 2 * np.random.random((self.layer_nodes, self.layer_nodes)) - 1\n",
    "        self.weights[self.hidden_layers] = 2 * np.random.random((self.layer_nodes,self.output_shape[1])) - 1\n",
    "\n",
    "    def sigmoid(self, x):\n",
    "        return (1/(1+exp(-x)))\n",
    "    def sigmoid_derivative(self, x):\n",
    "        return x * (1 - x)\n",
    "\n",
    "    def think(self, x):\n",
    "        layer1 = self.sigmoid(dot(x, self.weights[0]))\n",
    "        for i in range(1,self.hidden_layers):\n",
    "            layer2 = self.sigmoid(dot(layer1, self.weights[i]))\n",
    "            layer1=layer2\n",
    "        output = self.sigmoid(dot(layer1, self.weights[self.hidden_layers]))\n",
    "        return output\n",
    "\n",
    "    def softmax(self,a):\n",
    "        mx = np.sum(a,axis = 1,keepdims = True)\n",
    "        ex = np.divide(a,mx)\n",
    "        return ex\n",
    "\n",
    "    def train(self, num_steps):\n",
    "        for x in range(num_steps):\n",
    "            self.a[0] = self.sigmoid(dot(self.gateInput, self.weights[0]))\n",
    "            for i in range(1,self.hidden_layers):\n",
    "                self.a[i] = self.sigmoid(dot(self.a[i-1], self.weights[i]))\n",
    "            output = self.sigmoid(dot(self.a[self.hidden_layers-1], self.weights[self.hidden_layers]))\n",
    "            epoch_error.append(self.error(self.gateOutput,self.softmax(output)))\n",
    "            outputError = -(self.gateOutput - self.softmax(output))\n",
    "            delta = outputError * self.sigmoid_derivative(output)\n",
    "            out_weights_adjustment = dot(self.a[self.hidden_layers-1].T, delta)\n",
    "            self.weights[self.hidden_layers] -= .001*out_weights_adjustment\n",
    "            #                   print(\"5\")\n",
    "            for i in np.arange(self.hidden_layers-1,0,-1):\n",
    "            #                       print(i)\n",
    "                delta = dot(delta, self.weights[i+1].T) * self.sigmoid_derivative(self.a[i])\n",
    "                weight_2_adjustment = dot(self.a[i-1].T, delta)\n",
    "                x1=self.weights[i]-.001*weight_2_adjustment\n",
    "                self.weights[i] = x1\n",
    "            delta = dot(delta, self.weights[1].T) * self.sigmoid_derivative(self.a[0])\n",
    "            weight_1_adjustment = dot(self.gateInput.T, delta)\n",
    "            self.weights[0] -= 0.001*weight_1_adjustment\n",
    "\n",
    "\n",
    "\n"
   ]
  },
  {
   "cell_type": "code",
   "execution_count": null,
   "metadata": {
    "colab": {},
    "colab_type": "code",
    "id": "9koHKFaiA1FR"
   },
   "outputs": [],
   "source": []
  },
  {
   "cell_type": "code",
   "execution_count": 4,
   "metadata": {
    "colab": {},
    "colab_type": "code",
    "id": "6H8V4Kw6CPML"
   },
   "outputs": [],
   "source": [
    "file = df[0:10000]  \n",
    "X= file.drop(['label'],axis=1)\n",
    "y =pd.DataFrame(file['label'])\n",
    "X=(X-X.mean())/X.std()\n",
    "y=pd.concat([y,pd.get_dummies(y['label'],prefix='label')],axis=1).drop(['label'],axis=1)\n",
    "\n",
    "\n"
   ]
  },
  {
   "cell_type": "code",
   "execution_count": 5,
   "metadata": {
    "colab": {
     "base_uri": "https://localhost:8080/",
     "height": 2537
    },
    "colab_type": "code",
    "id": "De44ep96FJrW",
    "outputId": "41ba1915-ff5c-4c35-e963-2582dc751d6f"
   },
   "outputs": [
    {
     "name": "stdout",
     "output_type": "stream",
     "text": [
      "(1, 784)\n",
      "(1, 10)\n"
     ]
    }
   ],
   "source": [
    "neural_network = NeuralNetwork()\n",
    "neural_network.ini(X,y)\n",
    "neural_network.initialization()\n",
    "neural_network.train(1500)"
   ]
  },
  {
   "cell_type": "code",
   "execution_count": 8,
   "metadata": {},
   "outputs": [
    {
     "data": {
      "text/plain": [
       "Text(0.5, 1.0, 'Epoch vs Error')"
      ]
     },
     "execution_count": 8,
     "metadata": {},
     "output_type": "execute_result"
    },
    {
     "data": {
      "image/png": "[encoded data removed]",
      "text/plain": [
       "<Figure size 432x288 with 1 Axes>"
      ]
     },
     "metadata": {
      "needs_background": "light"
     },
     "output_type": "display_data"
    }
   ],
   "source": [
    "from pylab import *\n",
    "import matplotlib\n",
    "import matplotlib.pyplot as plt\n",
    "fig, ax = plt.subplots()\n",
    "x_axis = [i for i in range(1,1501,1)]\n",
    "ax.plot(x_axis, epoch_error, label=\"Error\")\n",
    "ax.legend(loc=1)\n",
    "ax.set_xlabel(\"Epoch\", fontsize=18)\n",
    "ax.set_ylabel(\"Error\", fontsize=18)\n",
    "ax.set_title('Epoch vs Error')"
   ]
  }
 ],
 "metadata": {
  "colab": {
   "collapsed_sections": [],
   "name": "optimized-Copy1.ipynb",
   "provenance": [],
   "version": "0.3.2"
  },
  "kernelspec": {
   "display_name": "Python 3",
   "language": "python",
   "name": "python3"
  },
  "language_info": {
   "codemirror_mode": {
    "name": "ipython",
    "version": 3
   },
   "file_extension": ".py",
   "mimetype": "text/x-python",
   "name": "python",
   "nbconvert_exporter": "python",
   "pygments_lexer": "ipython3",
   "version": "3.6.7"
  }
 },
 "nbformat": 4,
 "nbformat_minor": 1
}
