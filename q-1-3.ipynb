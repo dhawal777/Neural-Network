{
 "cells": [
  {
   "cell_type": "code",
   "execution_count": 1,
   "metadata": {
    "colab": {},
    "colab_type": "code",
    "id": "k_mGLUffqwFv"
   },
   "outputs": [],
   "source": [
    "import pandas as pd\n",
    "import pandas as pd\n",
    "import requests\n",
    "import io\n",
    "df=pd.read_csv('apparel-trainval.csv')"
   ]
  },
  {
   "cell_type": "code",
   "execution_count": 2,
   "metadata": {
    "colab": {},
    "colab_type": "code",
    "id": "CUwbAlq0qwFz"
   },
   "outputs": [],
   "source": [
    "from numpy import random,exp,array, dot\n",
    "import pandas as pd\n",
    "from sklearn.model_selection import train_test_split\n",
    "from sklearn.metrics import accuracy_score\n",
    "import numpy as np\n",
    "class NeuralNetwork():\n",
    "    def ini(self, gateInput, gateOutput,i):\n",
    "        self.gateInput = gateInput\n",
    "        self.gateOutput = gateOutput\n",
    "        self.input_shape = (1,784)\n",
    "        print(self.input_shape)\n",
    "        self.output_shape = (1,10)\n",
    "        print((self.output_shape))\n",
    "        self.layer_nodes = 15 \n",
    "        self.hidden_layers = i\n",
    "        self.a = {}\n",
    "\n",
    "\n",
    "    def initialization(self,):\n",
    "        self.weights = {}       \n",
    "        self.weights[0] = (2 * np.random.random((self.input_shape[1], self.layer_nodes)) - 1)*0.01\n",
    "        for i in range(1,self.hidden_layers):\n",
    "            self.weights[i] = (2 * np.random.random((self.layer_nodes, self.layer_nodes)) - 1)*0.01\n",
    "        self.weights[self.hidden_layers] = (2 * np.random.random((self.layer_nodes,self.output_shape[1])) - 1)*0.01\n",
    "\n",
    "    def sigmoid(self, x):\n",
    "        return (1/(1+exp(-x)))\n",
    "    def sigmoid_derivative(self, x):\n",
    "        return x * (1 - x)\n",
    "\n",
    "    def think(self, x):\n",
    "        layer1 = self.sigmoid(dot(x, self.weights[0]))\n",
    "        for i in range(1,self.hidden_layers):\n",
    "            layer2 = self.sigmoid(dot(layer1, self.weights[i]))\n",
    "            layer1=layer2\n",
    "        output = self.sigmoid(dot(layer1, self.weights[self.hidden_layers]))\n",
    "        return output\n",
    "\n",
    "    def softmax(self,a):\n",
    "        mx = np.sum(a,axis = 1,keepdims = True)\n",
    "        ex = np.divide(a,mx)\n",
    "        return ex\n",
    "    \n",
    "    def train(self, num_steps):\n",
    "        for x in range(num_steps):\n",
    "                self.a[0] = self.sigmoid(dot(self.gateInput, self.weights[0]))\n",
    "                for i in range(1,self.hidden_layers):\n",
    "                    self.a[i] = self.sigmoid(dot(self.a[i-1], self.weights[i]))\n",
    "                output = self.sigmoid(dot(self.a[self.hidden_layers-1], self.weights[self.hidden_layers]))\n",
    "                outputError = -(self.gateOutput - self.softmax(output))\n",
    "\n",
    "                delta = outputError * self.sigmoid_derivative(output)              \n",
    "                out_weights_adjustment = dot(self.a[self.hidden_layers-1].T, delta)\n",
    "\n",
    "                self.weights[self.hidden_layers] -= .001*out_weights_adjustment\n",
    "                for i in np.arange(self.hidden_layers-1,0,-1):\n",
    "                    delta = dot(delta, self.weights[i+1].T) * self.sigmoid_derivative(self.a[i])\n",
    "                    weight_2_adjustment = dot(self.a[i-1].T, delta)\n",
    "                    x1=self.weights[i]-.001*weight_2_adjustment\n",
    "                    self.weights[i] = x1\n",
    "                delta = dot(delta, self.weights[1].T) * self.sigmoid_derivative(self.a[0])\n",
    "                weight_1_adjustment = dot(self.gateInput.T, delta)\n",
    "                self.weights[0] -= 0.001*weight_1_adjustment\n",
    "\n",
    "\n"
   ]
  },
  {
   "cell_type": "code",
   "execution_count": 3,
   "metadata": {
    "colab": {},
    "colab_type": "code",
    "id": "6H8V4Kw6CPML"
   },
   "outputs": [],
   "source": [
    "import copy \n",
    "file = df[0:8000]  \n",
    "X= file.drop(['label'],axis=1)\n",
    "y =pd.DataFrame(file['label'])\n",
    "X=(X-X.mean())/X.std()\n",
    "\n",
    "X_train, X_test, y_train, y_test = train_test_split(X, y, test_size = 0.2, random_state = 3)\n",
    "# y_train=pd.concat([y_train,pd.get_dummies(y_train['label'],prefix='label')],axis=1).drop(['label'],axis=1)\n",
    "y_train=pd.concat([y_train,pd.get_dummies(y_train['label'],prefix='label')],axis=1).drop(['label'],axis=1)\n",
    "\n"
   ]
  },
  {
   "cell_type": "code",
   "execution_count": 4,
   "metadata": {
    "colab": {
     "base_uri": "https://localhost:8080/",
     "height": 2537
    },
    "colab_type": "code",
    "id": "De44ep96FJrW",
    "outputId": "41ba1915-ff5c-4c35-e963-2582dc751d6f",
    "scrolled": false
   },
   "outputs": [
    {
     "name": "stdout",
     "output_type": "stream",
     "text": [
      "(1, 784)\n",
      "(1, 10)\n",
      "for Hidden Layer :  1\n",
      "----------------Accuracy---------------\n",
      "0.821875\n",
      "(1, 784)\n",
      "(1, 10)\n",
      "for Hidden Layer :  2\n",
      "----------------Accuracy---------------\n",
      "0.1925\n",
      "(1, 784)\n",
      "(1, 10)\n",
      "for Hidden Layer :  3\n",
      "----------------Accuracy---------------\n",
      "0.09375\n",
      "(1, 784)\n",
      "(1, 10)\n",
      "for Hidden Layer :  4\n",
      "----------------Accuracy---------------\n",
      "0.09375\n"
     ]
    }
   ],
   "source": [
    "from sklearn.metrics import accuracy_score\n",
    "numHiddenLayerList = []\n",
    "errorList = []\n",
    "for i in range(1,5) :\n",
    "    X1=copy.deepcopy(X_train)\n",
    "    y1=copy.deepcopy(y_train)\n",
    "    neural_network = NeuralNetwork()\n",
    "    \n",
    "    neural_network.ini(X1,y1,i)\n",
    "    neural_network.initialization()\n",
    "    neural_network.train(300)\n",
    "    y_valid1=copy.deepcopy(y_test)\n",
    "    x_valid1=copy.deepcopy(X_test)\n",
    "    myX=np.array(x_valid1)\n",
    "    res1=neural_network.think(myX)\n",
    "    \n",
    "    \n",
    "    res=[]\n",
    "    for val in res1:\n",
    "        max1=None\n",
    "        ind=0\n",
    "        for j in range(10):\n",
    "\n",
    "            if(max1 is None or val[j]>max1):\n",
    "                max1=val[j]\n",
    "                ind=j\n",
    "        res.append(ind)\n",
    "    \n",
    "\n",
    "    print(\"for Hidden Layer : \",i)\n",
    "    numHiddenLayerList.append(i)\n",
    "    print(\"----------------Accuracy---------------\")\n",
    "    print(accuracy_score(y_valid1,res))\n",
    "    errorList.append(100-accuracy_score(y_valid1,res)*100)"
   ]
  },
  {
   "cell_type": "code",
   "execution_count": 8,
   "metadata": {},
   "outputs": [
    {
     "data": {
      "text/plain": [
       "Text(0, 0.5, 'Prediction Loss(Error)')"
      ]
     },
     "execution_count": 8,
     "metadata": {},
     "output_type": "execute_result"
    },
    {
     "data": {
      "image/png": "[encoded data removed]",
      "text/plain": [
       "<Figure size 432x288 with 1 Axes>"
      ]
     },
     "metadata": {
      "needs_background": "light"
     },
     "output_type": "display_data"
    }
   ],
   "source": [
    "from pylab import *\n",
    "import matplotlib\n",
    "import matplotlib.pyplot as plt\n",
    "\n",
    "fig, ax = plt.subplots()\n",
    "\n",
    "ax.plot(numHiddenLayerList, errorList,marker='o')\n",
    "ax.set_xlabel(\"Number of Hidden Layer\", fontsize=18)\n",
    "ax.set_ylabel(\"Prediction Loss(Error)\", fontsize=18)"
   ]
  },
  {
   "cell_type": "code",
   "execution_count": 6,
   "metadata": {},
   "outputs": [],
   "source": [
    "# from pylab import *\n",
    "# import matplotlib\n",
    "# import matplotlib.pyplot as plt\n",
    "\n",
    "# fig, ax = plt.subplots()\n",
    "\n",
    "# ax.plot(numHiddenLayerList, errorList,marker='o')\n",
    "# ax.set_xlabel(\"Number of Hidden Layer\", fontsize=18)\n",
    "# ax.set_ylabel(\"Prediction Loss(Error)\", fontsize=18)"
   ]
  },
  {
   "cell_type": "code",
   "execution_count": 7,
   "metadata": {},
   "outputs": [],
   "source": [
    "# from pylab import *\n",
    "# import matplotlib\n",
    "# import matplotlib.pyplot as plt\n",
    "\n",
    "# fig, ax = plt.subplots()\n",
    "\n",
    "# ax.plot(numHiddenLayerList, errorList,marker='o')\n",
    "# ax.set_xlabel(\"Number of Hidden Layer\", fontsize=18)\n",
    "# ax.set_ylabel(\"Prediction Loss(Error)\", fontsize=18)"
   ]
  }
 ],
 "metadata": {
  "colab": {
   "collapsed_sections": [],
   "name": "optimized-Copy1.ipynb",
   "provenance": [],
   "version": "0.3.2"
  },
  "kernelspec": {
   "display_name": "Python 3",
   "language": "python",
   "name": "python3"
  },
  "language_info": {
   "codemirror_mode": {
    "name": "ipython",
    "version": 3
   },
   "file_extension": ".py",
   "mimetype": "text/x-python",
   "name": "python",
   "nbconvert_exporter": "python",
   "pygments_lexer": "ipython3",
   "version": "3.6.7"
  }
 },
 "nbformat": 4,
 "nbformat_minor": 1
}
